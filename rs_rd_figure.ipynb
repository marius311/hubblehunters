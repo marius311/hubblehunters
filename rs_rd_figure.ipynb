{
 "cells": [
  {
   "cell_type": "code",
   "execution_count": 1,
   "metadata": {},
   "outputs": [
    {
     "name": "stderr",
     "output_type": "stream",
     "text": [
      "┌ Info: Recompiling stale cache file /home/marius/.julia/compiled/v1.1/Cosmology/REPw9.ji for Cosmology [2b3c750e-bc73-11e8-3d6c-0d23c334b2a7]\n",
      "└ @ Base loading.jl:1184\n",
      "┌ Warning: Replacing docs for `Cosmology.η :: Union{}` in module `Cosmology`\n",
      "└ @ Base.Docs docs/Docs.jl:223\n",
      "┌ Warning: Replacing docs for `Cosmology.τ :: Union{}` in module `Cosmology`\n",
      "└ @ Base.Docs docs/Docs.jl:223\n",
      "┌ Warning: Replacing docs for `Cosmology.τdrag :: Union{}` in module `Cosmology`\n",
      "└ @ Base.Docs docs/Docs.jl:223\n",
      "WARNING: using Dierckx.integrate in module Main conflicts with an existing identifier.\n"
     ]
    }
   ],
   "source": [
    "using Cosmology\n",
    "using Cosmology: integrate\n",
    "using PyPlot\n",
    "using JLD2\n",
    "using Dierckx"
   ]
  },
  {
   "cell_type": "code",
   "execution_count": 24,
   "metadata": {},
   "outputs": [
    {
     "name": "stdout",
     "output_type": "stream",
     "text": [
      "   1.5017268996915245E-003   3426.2069422384589       0.67000000000000004     \n"
     ]
    }
   ],
   "source": [
    "p = new_params(H0=67., ωb=0.0225, ωc=0.12, mν=0.06eV, Nν_massive=1., Nν_massless=2.046, reltol=1e-4);"
   ]
  },
  {
   "cell_type": "code",
   "execution_count": 25,
   "metadata": {},
   "outputs": [
    {
     "data": {
      "text/plain": [
       "#15 (generic function with 1 method)"
      ]
     },
     "execution_count": 25,
     "metadata": {},
     "output_type": "execute_result"
    }
   ],
   "source": [
    "(H0 -> (p = new_params(H0=67., ωb=0.0225, ωc=0.12, mν=0.06eV, Nν_massive=1., Nν_massless=2.046, reltol=1e-3); rs_vis(p)))"
   ]
  },
  {
   "cell_type": "code",
   "execution_count": 26,
   "metadata": {},
   "outputs": [
    {
     "data": {
      "text/plain": [
       "gvis (self function of type Params)"
      ]
     },
     "execution_count": 26,
     "metadata": {},
     "output_type": "execute_result"
    }
   ],
   "source": [
    "@self Params gvis(z) = ⅆτ_ⅆz(z) * exp(-τ(z))"
   ]
  },
  {
   "cell_type": "code",
   "execution_count": 27,
   "metadata": {},
   "outputs": [],
   "source": [
    "z = 10 .^ range(5,1,length=128);"
   ]
  },
  {
   "cell_type": "code",
   "execution_count": 28,
   "metadata": {},
   "outputs": [
    {
     "data": {
      "text/plain": [
       "ⅆrsvis_ⅆlnH (self function of type Params)"
      ]
     },
     "execution_count": 28,
     "metadata": {},
     "output_type": "execute_result"
    }
   ],
   "source": [
    "@self Params ⅆrsvis_ⅆlnH_term1(z) = (exp(-τ(z))-1) * ⅆrs_ⅆz(z)\n",
    "@self Params ⅆrsvis_ⅆlnH_term2(z) = -gvis(z)*rs(z)\n",
    "@self Params ⅆrsvis_ⅆlnH_term3(z) = ⅆτ_ⅆz(z) * integrate(z′->gvis(z′)*rs(z′), z, Inf)\n",
    "\n",
    "@self Params ⅆrsvis_ⅆlnH(z) = ⅆrsvis_ⅆlnH_term1(z) + ⅆrsvis_ⅆlnH_term2(z) + ⅆrsvis_ⅆlnH_term3(z)"
   ]
  },
  {
   "cell_type": "code",
   "execution_count": 29,
   "metadata": {},
   "outputs": [
    {
     "data": {
      "text/plain": [
       "ⅆexprdeffr²_ⅆlnH (self function of type Params)"
      ]
     },
     "execution_count": 29,
     "metadata": {},
     "output_type": "execute_result"
    }
   ],
   "source": [
    "@self Params ⅆexprdeffr²_ⅆlnH_term1(z,r) = (1-exp(-τ(z))) * exp(-(rd(z)/r)^2)/r^2 * ⅆrd²_ⅆz(z)\n",
    "@self Params ⅆexprdeffr²_ⅆlnH_term2(z,r) = -gvis(z)*exp(-(rd(z)/r)^2)\n",
    "@self Params ⅆexprdeffr²_ⅆlnH_term3(z,r) = ⅆτ_ⅆz(z) * integrate(z′->gvis(z′)*exp(-(rd(z′)/r)^2), z, Inf)\n",
    "\n",
    "@self Params ⅆexprdeffr²_ⅆlnH(z,r) = ⅆexprdeffr²_ⅆlnH_term1(z,r) + ⅆexprdeffr²_ⅆlnH_term2(z,r) + ⅆexprdeffr²_ⅆlnH_term3(z,r)"
   ]
  },
  {
   "cell_type": "code",
   "execution_count": 30,
   "metadata": {},
   "outputs": [
    {
     "data": {
      "text/plain": [
       "6-element Array{Symbol,1}:\n",
       " :p   \n",
       " :z   \n",
       " :drs \n",
       " :drs′\n",
       " :drd \n",
       " :drd′"
      ]
     },
     "execution_count": 30,
     "metadata": {},
     "output_type": "execute_result"
    }
   ],
   "source": [
    "@load \"rs_rd_figure.jld2\" p z drs drs′ drd drd′"
   ]
  },
  {
   "cell_type": "code",
   "execution_count": 31,
   "metadata": {},
   "outputs": [],
   "source": [
    "rsvis = rs_vis(p);"
   ]
  },
  {
   "cell_type": "code",
   "execution_count": 32,
   "metadata": {},
   "outputs": [],
   "source": [
    "αrs = 1/rsvis;"
   ]
  },
  {
   "cell_type": "code",
   "execution_count": 33,
   "metadata": {},
   "outputs": [
    {
     "name": "stdout",
     "output_type": "stream",
     "text": [
      "213.395589 seconds (7.15 G allocations: 119.374 GiB, 16.10% gc time)\n"
     ]
    }
   ],
   "source": [
    "@time drs = αrs * ⅆrsvis_ⅆlnH.(p,z);"
   ]
  },
  {
   "cell_type": "code",
   "execution_count": 34,
   "metadata": {},
   "outputs": [
    {
     "name": "stdout",
     "output_type": "stream",
     "text": [
      "  0.121404 seconds (5.56 M allocations: 94.824 MiB, 15.99% gc time)\n"
     ]
    }
   ],
   "source": [
    "@time drs′ = αrs * ⅆrsvis_ⅆlnH_term1.(p,z);"
   ]
  },
  {
   "cell_type": "code",
   "execution_count": 35,
   "metadata": {},
   "outputs": [
    {
     "data": {
      "text/plain": [
       "5.597977538383105e58"
      ]
     },
     "execution_count": 35,
     "metadata": {},
     "output_type": "execute_result"
    }
   ],
   "source": [
    "r₀ = 14000 * π/1500 * Mpc"
   ]
  },
  {
   "cell_type": "code",
   "execution_count": 13,
   "metadata": {},
   "outputs": [],
   "source": [
    "r₀ = 30Mpc;"
   ]
  },
  {
   "cell_type": "code",
   "execution_count": 36,
   "metadata": {},
   "outputs": [],
   "source": [
    "rdeff = rd_vis(p,r₀);"
   ]
  },
  {
   "cell_type": "code",
   "execution_count": 37,
   "metadata": {},
   "outputs": [],
   "source": [
    "αrd = (exp(-(rdeff/r₀)^2) * (-2/r₀^2) * rdeff^2)^-1;"
   ]
  },
  {
   "cell_type": "code",
   "execution_count": 38,
   "metadata": {},
   "outputs": [
    {
     "name": "stdout",
     "output_type": "stream",
     "text": [
      " 64.572880 seconds (2.55 G allocations: 42.537 GiB, 18.13% gc time)\n"
     ]
    }
   ],
   "source": [
    "@time drd = αrd * ⅆexprdeffr²_ⅆlnH.(p,z,r₀);"
   ]
  },
  {
   "cell_type": "code",
   "execution_count": 39,
   "metadata": {},
   "outputs": [
    {
     "name": "stdout",
     "output_type": "stream",
     "text": [
      "  2.330437 seconds (36.34 M allocations: 619.532 MiB, 18.55% gc time)\n"
     ]
    }
   ],
   "source": [
    "@time drd′ = αrd * ⅆexprdeffr²_ⅆlnH_term1.(p,z,r₀);"
   ]
  },
  {
   "cell_type": "code",
   "execution_count": 45,
   "metadata": {},
   "outputs": [],
   "source": [
    "# @save \"rs_rd_figure.jld2\" p z drs drs′ drd drd′"
   ]
  },
  {
   "cell_type": "code",
   "execution_count": 41,
   "metadata": {},
   "outputs": [],
   "source": [
    "rc(\"patch\", linewidth=1.5)\n",
    "to_rgba = plt.matplotlib.colors.to_rgba;"
   ]
  },
  {
   "cell_type": "code",
   "execution_count": 42,
   "metadata": {},
   "outputs": [],
   "source": [
    "using DelimitedFiles"
   ]
  },
  {
   "cell_type": "code",
   "execution_count": 43,
   "metadata": {},
   "outputs": [],
   "source": [
    "using Interpolations\n",
    "Hz_ϕ4 = LinearInterpolation(eachcol(readdlm(\"Phi4_TEfull_BAOhlz_Lens_H0_Pant_bf_background.dat\",comments=true)[end:-1:1,[1,4]])...);"
   ]
  },
  {
   "cell_type": "code",
   "execution_count": 44,
   "metadata": {},
   "outputs": [
    {
     "data": {
      "image/png": "[encoded data removed]",
      "text/plain": [
       "Figure(PyObject <Figure size 640x480 with 2 Axes>)"
      ]
     },
     "metadata": {},
     "output_type": "display_data"
    }
   ],
   "source": [
    "fill_between(z, 0, -z .* drs, edgecolor=\"C0\", facecolor=to_rgba(\"C0\",0.5), label=raw\"${\\rm sound\\;\\;horizon} \\;\\;(r_s)$\")\n",
    "semilogx(z, -z .* drs′, c=\"C0\", ls=\"-.\", zorder=-100)\n",
    "\n",
    "fill_between(z, 0, -z .* drd, edgecolor=\"C1\", facecolor=to_rgba(\"C1\",0.5), label=raw\"${\\rm damping\\;\\;scale} \\;\\;(r_d)$\")\n",
    "semilogx(z, -z .* drd′, c=\"C1\", ls=\"-.\", zorder=-100)\n",
    "\n",
    "legend(title=\"left axis\", loc=\"upper left\")\n",
    "\n",
    "ylim(0,3.7)\n",
    "xlim(2e1,5e4)\n",
    "xlabel(raw\"$z$\")\n",
    "ylabel(raw\"$-\\delta \\ln r_x / \\delta \\ln H(\\ln z)$\")\n",
    "\n",
    "twinx()\n",
    "\n",
    "\n",
    "\n",
    "plot(xlim(), fill(0.04,2), \"C6--\", label=raw\"$N_{\\rm eff}=3.7$\")\n",
    "plot(z, Hz_ϕ4.(z) ./ (Hubble.(p,z)*Mpc) .- 1, \"C7--\", label=raw\"$\\rm Agrawal\\; et\\; al.\\; 2019$\")\n",
    "\n",
    "legend(title=\"right axis\", loc=\"upper right\")\n",
    "\n",
    "# xscale(\"linear\")\n",
    "# xlim(50,20000)\n",
    "\n",
    "ylim(0,0.4)\n",
    "ylabel(raw\"$H(z) / H^{\\rm fid}(z)$\")\n",
    "\n",
    "savefig(\"paper/Figures/rs_rd.pdf\", bbox_inches=\"tight\")"
   ]
  },
  {
   "cell_type": "code",
   "execution_count": null,
   "metadata": {},
   "outputs": [],
   "source": []
  }
 ],
 "metadata": {
  "kernelspec": {
   "display_name": "Julia 1.1.0",
   "language": "julia",
   "name": "julia-1.1"
  },
  "language_info": {
   "file_extension": ".jl",
   "mimetype": "application/julia",
   "name": "julia",
   "version": "1.1.0"
  }
 },
 "nbformat": 4,
 "nbformat_minor": 4
}
